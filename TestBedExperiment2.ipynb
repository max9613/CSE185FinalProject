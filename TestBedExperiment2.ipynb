{
 "cells": [
  {
   "cell_type": "code",
   "execution_count": 1,
   "metadata": {},
   "outputs": [],
   "source": [
    "from Experiment import Experiment\n",
    "import torch\n",
    "import matplotlib.pyplot as plt\n",
    "import random as rand\n",
    "import numpy as np\n",
    "%matplotlib inline"
   ]
  },
  {
   "cell_type": "code",
   "execution_count": 2,
   "metadata": {},
   "outputs": [],
   "source": [
    "experiment_dict = {\n",
    "            'name' : 'cartExperiment2',\n",
    "            'intrinsic_dims' : [1, 4, 16],\n",
    "            'gradient_decays' : [0.9, 0.5],\n",
    "            'buffer_size' : 256,\n",
    "            'intrinsic_weights' : [0.001],\n",
    "            'ppo_epsilons' : [None, 0.2],\n",
    "            'reward_discount' : 0.95, \n",
    "            'seed' : 420,\n",
    "            'non_linearities' : ['tanh'],\n",
    "            'critic_approximator_lrs' : [3e-3, 1e-3],\n",
    "            'env_id' : 'CartPole-v0',\n",
    "            'steps' : 40000,\n",
    "            'eval_percentage' : 0.1\n",
    "        }"
   ]
  },
  {
   "cell_type": "code",
   "execution_count": 3,
   "metadata": {},
   "outputs": [],
   "source": [
    "experiment = Experiment(experiment_dict, '')"
   ]
  },
  {
   "cell_type": "code",
   "execution_count": 4,
   "metadata": {},
   "outputs": [
    {
     "name": "stdout",
     "output_type": "stream",
     "text": [
      "STEP 40000/40000 | 24/24\t\t"
     ]
    }
   ],
   "source": [
    "experiment.run(True)"
   ]
  }
 ],
 "metadata": {
  "interpreter": {
   "hash": "904c1d5b810483bc350b33b930f646384f93060e74f168a924ececd2858634bf"
  },
  "kernelspec": {
   "display_name": "Python 3.8.6 64-bit ('3.8.6')",
   "language": "python",
   "name": "python3"
  },
  "language_info": {
   "codemirror_mode": {
    "name": "ipython",
    "version": 3
   },
   "file_extension": ".py",
   "mimetype": "text/x-python",
   "name": "python",
   "nbconvert_exporter": "python",
   "pygments_lexer": "ipython3",
   "version": "3.8.6"
  },
  "orig_nbformat": 4
 },
 "nbformat": 4,
 "nbformat_minor": 2
}
